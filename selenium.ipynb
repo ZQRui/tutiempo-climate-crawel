{
 "cells": [
  {
   "cell_type": "code",
   "execution_count": 1,
   "metadata": {},
   "outputs": [],
   "source": [
    "from selenium import webdriver\n"
   ]
  },
  {
   "cell_type": "code",
   "execution_count": 31,
   "metadata": {},
   "outputs": [],
   "source": [
    "browser = webdriver.Firefox()"
   ]
  },
  {
   "cell_type": "code",
   "execution_count": 28,
   "metadata": {},
   "outputs": [],
   "source": [
    "def get_write(year,month):\n",
    "    \n",
    "    browser.get('https://en.tutiempo.net/climate/{month:2}-{year:4}/ws-548230.html'.format(month=month,year=year))\n",
    "    browser.implicitly_wait(30)\n",
    "    browser.find_element_by_css_selector(\"input.boton.mt10\").click()\n",
    "    browser.implicitly_wait(30)\n",
    "    tbody=browser.find_element_by_css_selector(\".medias > tbody:nth-child(1)\")\n",
    "    trs=tbody.find_elements_by_tag_name(\"tr\")\n",
    "    table=[]\n",
    "    table.append([])\n",
    "    for th in trs[0].find_elements_by_tag_name(\"th\"):\n",
    "        table[0].append(th.text)\n",
    "    for tr in trs[1:-2]:\n",
    "        table.append([])\n",
    "        for td in tr.find_elements_by_tag_name(\"td\"):\n",
    "            table[-1].append(td.text)\n",
    "    with open(\"{year:4}-{month:2}.csv\".format(month=month,year=year),\"w\") as fp:\n",
    "        fp.write(\"\\n\".join([\",\".join(tr) for tr in table]))\n",
    "    print(year,month,\"done\")"
   ]
  },
  {
   "cell_type": "code",
   "execution_count": 13,
   "metadata": {},
   "outputs": [
    {
     "name": "stdout",
     "output_type": "stream",
     "text": [
      "2015 11 done\n"
     ]
    }
   ],
   "source": [
    "get_write(2015,11)"
   ]
  },
  {
   "cell_type": "code",
   "execution_count": 38,
   "metadata": {},
   "outputs": [],
   "source": [
    "with open(\"201501.csv\",\"w\") as fp:\n",
    "    fp.write(\"\\n\".join([\",\".join(tr) for tr in table]))"
   ]
  },
  {
   "cell_type": "code",
   "execution_count": null,
   "metadata": {},
   "outputs": [],
   "source": [
    "ym= [(year,month)  for year in range(2015,2018) for month in range(1,13)] \n",
    "ym"
   ]
  },
  {
   "cell_type": "code",
   "execution_count": 33,
   "metadata": {},
   "outputs": [
    {
     "name": "stdout",
     "output_type": "stream",
     "text": [
      "2015 1 done\n",
      "2015 2 done\n",
      "2015 3 done\n",
      "2015 4 done\n",
      "2015 5 done\n",
      "2015 6 done\n",
      "2015 7 done\n",
      "2015 8 done\n",
      "2015 9 done\n",
      "2015 10 done\n",
      "2015 11 done\n",
      "2015 12 done\n",
      "2016 1 done\n",
      "2016 2 done\n",
      "2016 3 done\n",
      "2016 4 done\n",
      "2016 5 done\n",
      "2016 6 done\n",
      "2016 7 done\n",
      "2016 8 done\n",
      "2016 9 done\n",
      "2016 10 done\n",
      "2016 11 done\n",
      "2016 12 done\n",
      "2017 1 done\n",
      "2017 2 done\n",
      "2017 3 done\n",
      "2017 4 done\n",
      "2017 5 done\n",
      "2017 6 done\n",
      "2017 7 done\n",
      "2017 8 done\n",
      "2017 9 done\n",
      "2017 10 done\n",
      "2017 11 done\n",
      "2017 12 done\n"
     ]
    }
   ],
   "source": [
    "while ym:\n",
    "    get_write(ym[0][0],ym[0][1])\n",
    "    ym.pop(0)"
   ]
  },
  {
   "cell_type": "code",
   "execution_count": null,
   "metadata": {},
   "outputs": [],
   "source": []
  }
 ],
 "metadata": {
  "kernelspec": {
   "display_name": "Python [conda env:WebCrawelTest]",
   "language": "python",
   "name": "conda-env-WebCrawelTest-py"
  },
  "language_info": {
   "codemirror_mode": {
    "name": "ipython",
    "version": 3
   },
   "file_extension": ".py",
   "mimetype": "text/x-python",
   "name": "python",
   "nbconvert_exporter": "python",
   "pygments_lexer": "ipython3",
   "version": "3.6.5"
  }
 },
 "nbformat": 4,
 "nbformat_minor": 2
}
