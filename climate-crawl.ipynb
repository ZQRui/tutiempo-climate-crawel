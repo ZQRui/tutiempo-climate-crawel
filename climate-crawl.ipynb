{
 "cells": [
  {
   "cell_type": "code",
   "execution_count": 1,
   "metadata": {},
   "outputs": [],
   "source": [
    "import requests\n",
    "from bs4 import BeautifulSoup"
   ]
  },
  {
   "cell_type": "code",
   "execution_count": 3,
   "metadata": {},
   "outputs": [],
   "source": [
    "proxies={\"https\":\"127.0.0.1:8080\",\"http\":\"127.0.0.1:8080\"}"
   ]
  },
  {
   "cell_type": "code",
   "execution_count": 18,
   "metadata": {},
   "outputs": [],
   "source": [
    "proxies={\"https\":\"127.0.0.1:10800\",\"http\":\"127.0.0.1:10800\"}"
   ]
  },
  {
   "cell_type": "code",
   "execution_count": 2,
   "metadata": {},
   "outputs": [],
   "source": [
    "se=requests.Session()\n",
    "# se.proxies=proxies\n",
    "se.headers={\"User-Agent\":\"Mozilla/5.0 (Windows NT 10.0; Win64; x64) AppleWebKit/537.36 (KHTML, like Gecko) Chrome/69.0.3497.100 Safari/537.36\"\n",
    "            ,\"Origin\":\"https://en.tutiempo.net\"\n",
    "            ,\"Content-Type\":\"application/x-www-form-urlencoded\"}"
   ]
  },
  {
   "cell_type": "code",
   "execution_count": 7,
   "metadata": {},
   "outputs": [],
   "source": [
    "url=\"https://en.tutiempo.net/climate/01-2015/ws-548230.html\""
   ]
  },
  {
   "cell_type": "code",
   "execution_count": 9,
   "metadata": {},
   "outputs": [
    {
     "data": {
      "text/plain": [
       "200"
      ]
     },
     "execution_count": 9,
     "metadata": {},
     "output_type": "execute_result"
    }
   ],
   "source": [
    "result=se.get(url)\n",
    "result.status_code"
   ]
  },
  {
   "cell_type": "code",
   "execution_count": 26,
   "metadata": {},
   "outputs": [],
   "source": [
    "b1=BeautifulSoup(result.content,\"html.parser\")"
   ]
  },
  {
   "cell_type": "code",
   "execution_count": 27,
   "metadata": {},
   "outputs": [],
   "source": [
    "form=b1.select(\"div.DivInfoAbuso form input\")"
   ]
  },
  {
   "cell_type": "code",
   "execution_count": 28,
   "metadata": {},
   "outputs": [],
   "source": [
    "data=dict([(form[i].attrs[\"name\"],form[i].attrs[\"value\"]) for i in (0,1)])\n",
    "data\n",
    "send_data=\"&\".join([\"{}={}\".format(k,v) for k,v in data.items()])"
   ]
  },
  {
   "cell_type": "code",
   "execution_count": 29,
   "metadata": {},
   "outputs": [],
   "source": [
    "result2=se.post(url,data=send_data)"
   ]
  },
  {
   "cell_type": "code",
   "execution_count": 30,
   "metadata": {},
   "outputs": [],
   "source": [
    "b2=BeautifulSoup(result2.content,\"html.parser\")"
   ]
  },
  {
   "cell_type": "code",
   "execution_count": null,
   "metadata": {},
   "outputs": [],
   "source": [
    "b2"
   ]
  },
  {
   "cell_type": "code",
   "execution_count": 41,
   "metadata": {},
   "outputs": [],
   "source": [
    "trs=b2.select(\".mt5.minoverflow.tablancpy table tr\")"
   ]
  },
  {
   "cell_type": "code",
   "execution_count": 58,
   "metadata": {},
   "outputs": [],
   "source": [
    "table=[[th.text for th in trs[0].select(\"th\")],]+[[td.text.replace('\\xa0','') for td in tr] for tr in trs[1:-2]]"
   ]
  },
  {
   "cell_type": "code",
   "execution_count": 60,
   "metadata": {},
   "outputs": [
    {
     "name": "stdout",
     "output_type": "stream",
     "text": [
      "Day,T,TM,Tm,SLP,H,PP,VV,V,VM,VG,RA,SN,TS,FG\n",
      "1,0.6,4.2,-6.6,1031.3,20,0,22.5,8.5,18,-,,,,\n",
      "2,3.9,7.5,-1.9,1028.1,21,0,19,10.4,14.4,-,,,,\n",
      "3,6.2,10,2,1016.9,32,0,12.2,13.9,28.7,-,,,,\n",
      "4,8.9,14.6,2,1015.6,36,0,7.6,5.4,7.2,-,,,,\n",
      "5,3.7,8.5,-2.1,1020.8,62,1.02,8.2,11.7,18,-,o,,,\n",
      "6,-1.4,1.9,-3.3,1028.9,32,0,27.4,7.6,18,-,,,,\n",
      "7,-0.1,5.7,-3.5,1031.7,29,0,20,6.1,7.2,-,,,,\n",
      "8,2.6,8.2,-3.2,1030.2,40,0,9.3,7.6,10.7,-,,,,\n",
      "9,1.4,6.7,-1.6,1029.5,45,0,9.5,6.7,10.7,-,,,,\n",
      "10,6.9,11.7,-2,1025,35,0,9.2,8.1,14.4,-,,,,\n",
      "11,2.8,9.6,-2.5,1033.6,39,0,18.8,8.7,14.4,-,,,,\n",
      "12,1.8,7.5,-3.4,1036.1,34,0,16.7,5.9,10.7,-,,,,\n",
      "13,3.3,9,-2,1031.5,40,0,14,4.4,7.2,-,,,,\n",
      "14,4.1,8,0.2,1029.4,66,0,6.3,5.9,10.7,-,,,,\n",
      "15,2.6,5.4,0.7,1027.4,73,0,1.9,5,7.2,-,,,,\n",
      "16,-0.1,3.8,-4.1,1032.3,45,0,13.2,10.7,18,-,,,,\n",
      "17,2.5,6.6,-5.1,1030.3,28,0,20.9,9.1,18,-,,,,\n",
      "18,4.1,9.4,-0.7,1023.9,29,0,18.3,13,18,-,,,,\n",
      "19,7.1,11.5,-1.2,1025.2,21,0,26.9,8.1,10.7,-,,,,\n",
      "20,7.8,12.8,2.3,1021.3,31,0,15.1,9.8,21.7,-,,,,\n",
      "21,-1.3,5.4,-5.2,1028.5,75,0,10.8,9.1,14.4,-,,,,\n",
      "22,2.2,7.5,-5.8,1024.8,36,0,22,6.7,10.7,-,,,,\n",
      "23,4.4,10.3,0.6,1020.5,38,0,11.7,8.5,10.7,-,,,,\n",
      "24,3,8.6,-0.2,1024.5,67,5.08,3.4,4.4,7.2,-,o,,,o\n",
      "25,0,0.6,-0.4,1025.5,-,4.06,1.4,-,-,-,,,,o\n",
      "26,-0.3,4.5,-3,1030.6,83,0,6.8,12.4,18,-,,,,o\n",
      "27,-2.7,0.5,-4.4,1035.7,47,0,25.4,9.8,14.4,-,,,,\n",
      "28,-1.4,1.4,-5.6,1033.1,51,0,17.9,7.2,10.7,-,,,,\n",
      "29,-1.8,1.1,-4.3,1031.7,72,0,6.3,5.9,10.7,-,,,,\n",
      "30,-2.4,2.2,-5.9,1037.6,31,0,27,8.5,14.4,-,,,,\n",
      "31,-1.8,3.6,-6.5,1038.7,31,0,22.7,5.9,7.2,-,,,,\n"
     ]
    }
   ],
   "source": [
    "print(\"\\n\".join([\",\".join(tr)for tr in table]))"
   ]
  },
  {
   "cell_type": "code",
   "execution_count": 5,
   "metadata": {},
   "outputs": [],
   "source": [
    "import requests\n",
    "from bs4 import BeautifulSoup\n",
    "se=requests.Session()\n",
    "# se.proxies=proxies\n",
    "se.headers={\"User-Agent\":\"Mozilla/5.0 (Windows NT 10.0; Win64; x64) AppleWebKit/537.36 (KHTML, like Gecko) Chrome/69.0.3497.100 Safari/537.36\"\n",
    "            ,\"Origin\":\"https://en.tutiempo.net\"\n",
    "            ,\"Content-Type\":\"application/x-www-form-urlencoded\"}\n",
    "def get_weather(year,month,place_id=\"548230\"):\n",
    "    url=\"https://en.tutiempo.net/climate/{month:02}-{year:04}/ws-{place_id}.html\".format(year=year,month=month,place_id=place_id)\n",
    "    result=se.get(url)\n",
    "    b1=BeautifulSoup(result.content,\"html.parser\")\n",
    "    form=b1.select(\"div.DivInfoAbuso form input\")\n",
    "    data=dict([(form[i].attrs[\"name\"],form[i].attrs[\"value\"]) for i in (0,1)])\n",
    "    send_data=\"&\".join([\"{}={}\".format(k,v) for k,v in data.items()])\n",
    "    result2=se.post(url,data=send_data)\n",
    "    if result2.status_code==404:\n",
    "        print(404)\n",
    "    b2=BeautifulSoup(result2.content,\"html.parser\")\n",
    "    trs=b2.select(\".mt5.minoverflow.tablancpy table tr\")\n",
    "    table=[[th.text for th in trs[0].select(\"th\")],]+[[td.text.replace('\\xa0','') for td in tr] for tr in trs[1:-2]]\n",
    "    write_data=\"\\n\".join([\",\".join(tr)for tr in table])\n",
    "    with open(\"{place_id}-{year:04}-{month:02}.csv\".format(year=year,month=month,place_id=place_id),\"w\") as fp:\n",
    "        fp.write(write_data)"
   ]
  },
  {
   "cell_type": "code",
   "execution_count": 6,
   "metadata": {},
   "outputs": [
    {
     "ename": "AttributeError",
     "evalue": "'Response' object has no attribute 'status'",
     "output_type": "error",
     "traceback": [
      "\u001b[1;31m---------------------------------------------------------------------------\u001b[0m",
      "\u001b[1;31mAttributeError\u001b[0m                            Traceback (most recent call last)",
      "\u001b[1;32m<ipython-input-6-8d5c12d37293>\u001b[0m in \u001b[0;36m<module>\u001b[1;34m()\u001b[0m\n\u001b[1;32m----> 1\u001b[1;33m \u001b[0mget_weather\u001b[0m\u001b[1;33m(\u001b[0m\u001b[1;36m1940\u001b[0m\u001b[1;33m,\u001b[0m\u001b[1;36m8\u001b[0m\u001b[1;33m)\u001b[0m\u001b[1;33m\u001b[0m\u001b[0m\n\u001b[0m",
      "\u001b[1;32m<ipython-input-5-54a4c6d36501>\u001b[0m in \u001b[0;36mget_weather\u001b[1;34m(year, month, place_id)\u001b[0m\n\u001b[0;32m     14\u001b[0m     \u001b[0msend_data\u001b[0m\u001b[1;33m=\u001b[0m\u001b[1;34m\"&\"\u001b[0m\u001b[1;33m.\u001b[0m\u001b[0mjoin\u001b[0m\u001b[1;33m(\u001b[0m\u001b[1;33m[\u001b[0m\u001b[1;34m\"{}={}\"\u001b[0m\u001b[1;33m.\u001b[0m\u001b[0mformat\u001b[0m\u001b[1;33m(\u001b[0m\u001b[0mk\u001b[0m\u001b[1;33m,\u001b[0m\u001b[0mv\u001b[0m\u001b[1;33m)\u001b[0m \u001b[1;32mfor\u001b[0m \u001b[0mk\u001b[0m\u001b[1;33m,\u001b[0m\u001b[0mv\u001b[0m \u001b[1;32min\u001b[0m \u001b[0mdata\u001b[0m\u001b[1;33m.\u001b[0m\u001b[0mitems\u001b[0m\u001b[1;33m(\u001b[0m\u001b[1;33m)\u001b[0m\u001b[1;33m]\u001b[0m\u001b[1;33m)\u001b[0m\u001b[1;33m\u001b[0m\u001b[0m\n\u001b[0;32m     15\u001b[0m     \u001b[0mresult2\u001b[0m\u001b[1;33m=\u001b[0m\u001b[0mse\u001b[0m\u001b[1;33m.\u001b[0m\u001b[0mpost\u001b[0m\u001b[1;33m(\u001b[0m\u001b[0murl\u001b[0m\u001b[1;33m,\u001b[0m\u001b[0mdata\u001b[0m\u001b[1;33m=\u001b[0m\u001b[0msend_data\u001b[0m\u001b[1;33m)\u001b[0m\u001b[1;33m\u001b[0m\u001b[0m\n\u001b[1;32m---> 16\u001b[1;33m     \u001b[1;32mif\u001b[0m \u001b[0mresult2\u001b[0m\u001b[1;33m.\u001b[0m\u001b[0mstatus\u001b[0m\u001b[1;33m==\u001b[0m\u001b[1;36m404\u001b[0m\u001b[1;33m:\u001b[0m\u001b[1;33m\u001b[0m\u001b[0m\n\u001b[0m\u001b[0;32m     17\u001b[0m         \u001b[0mprint\u001b[0m\u001b[1;33m(\u001b[0m\u001b[1;36m404\u001b[0m\u001b[1;33m)\u001b[0m\u001b[1;33m\u001b[0m\u001b[0m\n\u001b[0;32m     18\u001b[0m     \u001b[0mb2\u001b[0m\u001b[1;33m=\u001b[0m\u001b[0mBeautifulSoup\u001b[0m\u001b[1;33m(\u001b[0m\u001b[0mresult2\u001b[0m\u001b[1;33m.\u001b[0m\u001b[0mcontent\u001b[0m\u001b[1;33m,\u001b[0m\u001b[1;34m\"html.parser\"\u001b[0m\u001b[1;33m)\u001b[0m\u001b[1;33m\u001b[0m\u001b[0m\n",
      "\u001b[1;31mAttributeError\u001b[0m: 'Response' object has no attribute 'status'"
     ]
    }
   ],
   "source": [
    "get_weather(1940,8)"
   ]
  },
  {
   "cell_type": "code",
   "execution_count": 68,
   "metadata": {},
   "outputs": [],
   "source": [
    "import argparse"
   ]
  },
  {
   "cell_type": "code",
   "execution_count": 69,
   "metadata": {},
   "outputs": [],
   "source": [
    "argp=argparse.ArgumentParser()"
   ]
  },
  {
   "cell_type": "code",
   "execution_count": 70,
   "metadata": {},
   "outputs": [
    {
     "data": {
      "text/plain": [
       "_StoreAction(option_strings=[], dest='place_id', nargs=None, const=None, default=None, type=<class 'str'>, choices=None, help=None, metavar=None)"
      ]
     },
     "execution_count": 70,
     "metadata": {},
     "output_type": "execute_result"
    }
   ],
   "source": [
    "argp.add_argument(\"year\",type=int)\n",
    "argp.add_argument(\"month\",type=int)\n",
    "argp.add_argument(\"place_id\",type=str)"
   ]
  },
  {
   "cell_type": "code",
   "execution_count": 71,
   "metadata": {},
   "outputs": [],
   "source": [
    "args=argp.parse_args([\"2015\",\"12\",\"123123\"])"
   ]
  },
  {
   "cell_type": "code",
   "execution_count": 72,
   "metadata": {},
   "outputs": [
    {
     "data": {
      "text/plain": [
       "2015"
      ]
     },
     "execution_count": 72,
     "metadata": {},
     "output_type": "execute_result"
    }
   ],
   "source": [
    "args.year"
   ]
  },
  {
   "cell_type": "code",
   "execution_count": null,
   "metadata": {},
   "outputs": [],
   "source": []
  }
 ],
 "metadata": {
  "kernelspec": {
   "display_name": "Python [conda env:WebCrawelTest]",
   "language": "python",
   "name": "conda-env-WebCrawelTest-py"
  },
  "language_info": {
   "codemirror_mode": {
    "name": "ipython",
    "version": 3
   },
   "file_extension": ".py",
   "mimetype": "text/x-python",
   "name": "python",
   "nbconvert_exporter": "python",
   "pygments_lexer": "ipython3",
   "version": "3.6.5"
  }
 },
 "nbformat": 4,
 "nbformat_minor": 2
}
